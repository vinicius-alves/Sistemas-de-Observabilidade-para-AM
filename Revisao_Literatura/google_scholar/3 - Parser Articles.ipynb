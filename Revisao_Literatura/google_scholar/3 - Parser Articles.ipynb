{
 "cells": [
  {
   "cell_type": "code",
   "execution_count": 13,
   "metadata": {},
   "outputs": [],
   "source": [
    "import pandas as pd\n",
    "from tqdm.notebook import tqdm\n",
    "import numpy as np \n",
    "from pathlib import Path\n",
    "from bs4 import BeautifulSoup\n",
    "tqdm.pandas()\n",
    "\n",
    "path = 'data'\n",
    "\n",
    "root_folder = Path(path)\n",
    "root_folder.mkdir(parents=True, exist_ok=True)"
   ]
  },
  {
   "cell_type": "code",
   "execution_count": 14,
   "metadata": {},
   "outputs": [],
   "source": [
    "import os\n",
    "os.environ[\"TIKA_SERVER_JAR\"] = r\"C:\\Users\\PC\\Documents\\tika\\tika-server-standard.jar\"\n",
    "os.environ[\"JAVA_HOME\"] = r\"C:\\Program Files\\Java\\jdk-11\\bin\"\n",
    "os.environ[\"PATH\"] += os.pathsep + os.environ[\"JAVA_HOME\"]\n",
    "\n",
    "import tika\n",
    "from tika import parser\n",
    "tika.initVM()"
   ]
  },
  {
   "cell_type": "code",
   "execution_count": 15,
   "metadata": {},
   "outputs": [],
   "source": [
    "df_searchterms = pd.read_csv(path+'/google_scholar_search_base_article_detail.csv',sep =';')\n",
    "\n",
    "files = list(root_folder.rglob(\"*\"))  \n",
    "files = [f for f in files if f.is_file() and f.suffix in (\".html\",'.pdf')]\n",
    "lst_name_files = [file.name for file in files]\n",
    "df_searchterms = df_searchterms[df_searchterms['article_file'].isin(lst_name_files)].copy()\n",
    "df_searchterms['path_article_file'] = path +'/articles/'+ df_searchterms['folder']+'/'+df_searchterms['article_file']\n",
    "df_searchterms['path_txt_folder'] = path +'/articles_txt/'+ df_searchterms['folder']\n",
    "df_searchterms['path_txt_article'] = df_searchterms['path_txt_folder']+'/'+df_searchterms['article_file'].str.replace('.html','.txt').str.replace('.pdf','.txt')\n",
    "df_searchterms.sort_values(by = ['domain_count','domain','folder'],\\\n",
    "                            ascending=[False,False,False], ignore_index=True, inplace=True)\n",
    "df_searchterms.drop_duplicates(subset = ['article_file'], keep='first', inplace= True)"
   ]
  },
  {
   "cell_type": "code",
   "execution_count": 16,
   "metadata": {},
   "outputs": [],
   "source": [
    "df_searchterms.to_csv(path+'/google_scholar_search_base_article_detail_txt.csv', sep = ';', index = False)"
   ]
  },
  {
   "cell_type": "code",
   "execution_count": 17,
   "metadata": {},
   "outputs": [],
   "source": [
    "records = df_searchterms.to_dict(orient = 'records')"
   ]
  },
  {
   "cell_type": "code",
   "execution_count": 18,
   "metadata": {},
   "outputs": [
    {
     "data": {
      "application/vnd.jupyter.widget-view+json": {
       "model_id": "9e9ce91ee8fa446585036a063097ee30",
       "version_major": 2,
       "version_minor": 0
      },
      "text/plain": [
       "  0%|          | 0/5835 [00:00<?, ?it/s]"
      ]
     },
     "metadata": {},
     "output_type": "display_data"
    }
   ],
   "source": [
    "for record in tqdm(records):\n",
    "\n",
    "\n",
    "    full_path_folder = Path(record['path_txt_folder'])\n",
    "    full_path_folder.mkdir(parents=True, exist_ok=True)\n",
    "\n",
    "    full_path_article = Path(record['path_article_file'])\n",
    "    full_path_txt = Path(record['path_txt_article'])\n",
    "\n",
    "    if full_path_txt.exists() and full_path_txt.is_file():  \n",
    "        continue\n",
    "\n",
    "    if not(full_path_article.exists() and full_path_article.is_file()):\n",
    "         continue\n",
    "\n",
    "    if record['PDF']:\n",
    "\n",
    "        doc = parser.from_file(str(full_path_article))['content']\n",
    "        if not(doc):\n",
    "             continue\n",
    "       \n",
    "    else:\n",
    "        f = open(str(full_path_article),\"r\", encoding=\"utf-8\")\n",
    "        soup = BeautifulSoup(f.read(), \"html.parser\")\n",
    "        f.close()\n",
    "        doc = soup.get_text(separator='\\n')\n",
    "    \n",
    "    with open(full_path_txt, \"w\", encoding=\"utf-8\") as f:\n",
    "        f.write(doc)\n",
    "\n",
    "\n",
    "    \n",
    "\n",
    "        \n"
   ]
  },
  {
   "cell_type": "code",
   "execution_count": null,
   "metadata": {},
   "outputs": [],
   "source": []
  }
 ],
 "metadata": {
  "kernelspec": {
   "display_name": "base",
   "language": "python",
   "name": "python3"
  },
  "language_info": {
   "codemirror_mode": {
    "name": "ipython",
    "version": 3
   },
   "file_extension": ".py",
   "mimetype": "text/x-python",
   "name": "python",
   "nbconvert_exporter": "python",
   "pygments_lexer": "ipython3",
   "version": "3.11.11"
  }
 },
 "nbformat": 4,
 "nbformat_minor": 2
}

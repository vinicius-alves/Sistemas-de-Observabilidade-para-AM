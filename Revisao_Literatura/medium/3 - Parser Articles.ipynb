{
 "cells": [
  {
   "cell_type": "code",
   "execution_count": 30,
   "metadata": {},
   "outputs": [],
   "source": [
    "import pandas as pd\n",
    "from tqdm.notebook import tqdm\n",
    "import numpy as np \n",
    "from pathlib import Path\n",
    "from bs4 import BeautifulSoup\n",
    "tqdm.pandas()\n",
    "\n",
    "path = 'data'\n",
    "\n",
    "root_folder = Path(path)\n",
    "root_folder.mkdir(parents=True, exist_ok=True)"
   ]
  },
  {
   "cell_type": "code",
   "execution_count": 31,
   "metadata": {},
   "outputs": [],
   "source": [
    "df_searchterms = pd.read_csv(root_folder /'medium_search_base_detail.csv', sep = ';')\n",
    "\n",
    "df_searchterms['path_txt_folder'] = path + '\\\\articles_txt\\\\'+ df_searchterms['folder']\n",
    "df_searchterms['path_txt_article'] = df_searchterms['path_txt_folder']+ '\\\\'+df_searchterms['algoliaObjectId']+'.txt'\n",
    "\n",
    "df_searchterms.sort_values(by = ['folder','voterCount','mediumUrl'],\\\n",
    "                            ascending=[False,False,False], ignore_index=True, inplace=True)\n",
    "df_searchterms.drop_duplicates(subset='algoliaObjectId',keep='first', inplace = True)"
   ]
  },
  {
   "cell_type": "code",
   "execution_count": 32,
   "metadata": {},
   "outputs": [],
   "source": [
    "df_searchterms.to_csv(root_folder /'medium_search_base_detail_txt.csv', sep = ';', index = False)"
   ]
  },
  {
   "cell_type": "code",
   "execution_count": 33,
   "metadata": {},
   "outputs": [],
   "source": [
    "records = df_searchterms.to_dict(orient = 'records')"
   ]
  },
  {
   "cell_type": "code",
   "execution_count": 34,
   "metadata": {},
   "outputs": [
    {
     "data": {
      "application/vnd.jupyter.widget-view+json": {
       "model_id": "994af72eac154f07a1a56fb5256b35b3",
       "version_major": 2,
       "version_minor": 0
      },
      "text/plain": [
       "  0%|          | 0/8046 [00:00<?, ?it/s]"
      ]
     },
     "metadata": {},
     "output_type": "display_data"
    }
   ],
   "source": [
    "for record in tqdm(records):\n",
    "\n",
    "\n",
    "    full_path_folder = Path(record['path_txt_folder'])\n",
    "    full_path_folder.mkdir(parents=True, exist_ok=True)\n",
    "\n",
    "    full_path_article = Path(record['path_file'])\n",
    "    full_path_txt = Path(record['path_txt_article'])\n",
    "\n",
    "    if full_path_txt.exists() and full_path_txt.is_file():  \n",
    "        continue\n",
    "\n",
    "    if not(full_path_article.exists() and full_path_article.is_file()):\n",
    "         continue\n",
    "\n",
    "    \n",
    "    f = open(str(full_path_article),\"r\", encoding=\"utf-8\")\n",
    "    soup = BeautifulSoup(f.read(), \"html.parser\")\n",
    "    f.close()\n",
    "    section = soup.find('section')\n",
    "    if not(section):\n",
    "        continue\n",
    "\n",
    "    content = section.get_text(separator='\\n')\n",
    "    \n",
    "    with open(full_path_txt, \"w\", encoding=\"utf-8\") as f:\n",
    "        f.write(content)\n",
    "\n",
    "    \n",
    "\n",
    "\n",
    "    \n",
    "\n",
    "        \n"
   ]
  },
  {
   "cell_type": "code",
   "execution_count": null,
   "metadata": {},
   "outputs": [],
   "source": []
  }
 ],
 "metadata": {
  "kernelspec": {
   "display_name": "base",
   "language": "python",
   "name": "python3"
  },
  "language_info": {
   "codemirror_mode": {
    "name": "ipython",
    "version": 3
   },
   "file_extension": ".py",
   "mimetype": "text/x-python",
   "name": "python",
   "nbconvert_exporter": "python",
   "pygments_lexer": "ipython3",
   "version": "3.11.11"
  }
 },
 "nbformat": 4,
 "nbformat_minor": 2
}
